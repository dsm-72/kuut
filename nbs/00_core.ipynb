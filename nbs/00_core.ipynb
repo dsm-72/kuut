{
 "cells": [
  {
   "attachments": {},
   "cell_type": "markdown",
   "metadata": {},
   "source": [
    "# core\n",
    "\n",
    "> kuut and kstep"
   ]
  },
  {
   "cell_type": "code",
   "execution_count": null,
   "metadata": {},
   "outputs": [],
   "source": [
    "#| default_exp core"
   ]
  },
  {
   "cell_type": "code",
   "execution_count": null,
   "metadata": {},
   "outputs": [],
   "source": [
    "#| hide\n",
    "from nbdev.showdoc import *"
   ]
  },
  {
   "cell_type": "code",
   "execution_count": null,
   "metadata": {},
   "outputs": [],
   "source": [
    "#| export\n",
    "from typing import (NamedTuple, Optional, Union, List)\n",
    "from dataclasses import dataclass\n",
    "from tqdm.auto import tqdm"
   ]
  },
  {
   "attachments": {},
   "cell_type": "markdown",
   "metadata": {},
   "source": [
    "## kstep"
   ]
  },
  {
   "cell_type": "code",
   "execution_count": null,
   "metadata": {},
   "outputs": [],
   "source": [
    "#| export\n",
    "@dataclass\n",
    "class kstep:\n",
    "    \"\"\"\n",
    "    A dataclass to store step information.\n",
    "\n",
    "    Parameters\n",
    "    ----------\n",
    "    num : int\n",
    "        The main number of the step.\n",
    "        \n",
    "    sub : Optional[int], default=None\n",
    "        The sub number of the step, if it exists.\n",
    "\n",
    "    val : Optional[int], default=1\n",
    "        The value of the step.\n",
    "        \n",
    "    desc : Optional[str], default=None\n",
    "        A description for the step.\n",
    "\n",
    "    Attributes\n",
    "    ----------\n",
    "    num : int\n",
    "        The main number of the step.\n",
    "\n",
    "    sub : Optional[int]\n",
    "        The sub number of the step, if it exists.\n",
    "\n",
    "    val : Optional[int]\n",
    "        The value of the step.\n",
    "\n",
    "    desc : Optional[str]\n",
    "        A description for the step.\n",
    "\n",
    "    Methods\n",
    "    -------\n",
    "    has_sub() -> bool:\n",
    "        Check if the step has a substep.\n",
    "\n",
    "    is_sub(other:Union[int, 'kstep']) -> bool:\n",
    "        Check if the step is a substep of another step.\n",
    "\n",
    "    __tuple__() -> Tuple[int, int, int, str]:\n",
    "        Return a tuple representation of the step.\n",
    "\n",
    "    __hash__() -> int:\n",
    "        Return a hash of the step.\n",
    "\n",
    "    __iter__():\n",
    "        Return an iterator for the step.\n",
    "\n",
    "    __len__() -> int:\n",
    "        Return the length of the step.\n",
    "\n",
    "    __getitem__(key: Union[int, str]) -> Union[int, str]:\n",
    "        Get an item from the step.\n",
    "\n",
    "    __eq__(other: Any) -> bool:\n",
    "        Check if the step is equal to another step.\n",
    "\n",
    "    __lt__(other: 'kstep') -> bool:\n",
    "        Check if the step is less than another step.\n",
    "\n",
    "    __gt__(other: 'kstep') -> bool:\n",
    "        Check if the step is greater than another step.\n",
    "    \"\"\"\n",
    "    num: int    \n",
    "    sub: Optional[int] = None     \n",
    "    val: Optional[int] = 1\n",
    "    desc: Optional[str] = None\n",
    "\n",
    "    @property\n",
    "    def has_sub(self) -> bool:\n",
    "        return self.sub is not None\n",
    "\n",
    "    def is_sub(self, other: Union[int, 'kstep']) -> bool:\n",
    "        return self.has_sub and self.num == other.num and (self.sub or -1) <= (other.sub or -1)\n",
    "\n",
    "    def __tuple__(self):\n",
    "        return (self.num, self.sub, self.val, self.desc)\n",
    "    \n",
    "    def __hash__(self):\n",
    "        return hash(self.__tuple__())\n",
    "\n",
    "    def __iter__(self):\n",
    "        return iter(self.__tuple__())\n",
    "\n",
    "    def __len__(self):\n",
    "        return len(self.__dict__)\n",
    "\n",
    "    def __getitem__(self, key: Union[int, str]):\n",
    "        if isinstance(key, int):\n",
    "            str_idx = list(kstep.__annotations__)[key]\n",
    "            return self[str_idx]\n",
    "\n",
    "        elif isinstance(key, slice):\n",
    "            return list(self)[key]\n",
    "            \n",
    "        return self.__dict__[key]\n",
    "\n",
    "    def __eq__(self, other):\n",
    "        if isinstance(other, str):\n",
    "            return self.desc == other\n",
    "\n",
    "        elif isinstance(other, tuple):\n",
    "            return kstep(*self[:len(other)]) == kstep(*other)\n",
    "\n",
    "        elif isinstance(other, kstep):\n",
    "            return self.__tuple__() == other.__tuple__()\n",
    "\n",
    "        elif isinstance(other, list):\n",
    "            return self == tuple(other)\n",
    "\n",
    "        elif isinstance(other, int):\n",
    "            return self == tuple((other,))\n",
    "\n",
    "        return super().__eq__(other)\n",
    "    \n",
    "    def __lt__(self, other):\n",
    "        return self.__tuple__() < other.__tuple__()\n",
    "    \n",
    "    def __gt__(self, other):\n",
    "        return self.__tuple__() < other.__tuple__()"
   ]
  },
  {
   "attachments": {},
   "cell_type": "markdown",
   "metadata": {},
   "source": [
    "### Step Examples"
   ]
  },
  {
   "cell_type": "code",
   "execution_count": null,
   "metadata": {},
   "outputs": [],
   "source": [
    "#| hide\n",
    "step_1_0 = kstep(num=1, sub=0, val=3, desc=\"Step 1.0\")\n",
    "step_1_1 = kstep(num=1, sub=0, val=3, desc=\"Step 1.1\")\n",
    "step_1_2 = kstep(num=1, sub=0, val=3, desc=\"Step 1.2\")\n",
    "\n",
    "step_1 = kstep(num=1, sub=None, val=3, desc=\"Step 1\")\n",
    "\n",
    "\n",
    "step_2 = kstep(num=2, sub=None, val=3, desc=\"Step 2\")\n",
    "\n",
    "step_3_0 = kstep(num=3, sub=0, val=3, desc=\"Step 3.0\")\n",
    "step_3_1 = kstep(num=3, sub=0, val=3, desc=\"Step 3.1\")\n",
    "\n"
   ]
  },
  {
   "cell_type": "code",
   "execution_count": null,
   "metadata": {},
   "outputs": [
    {
     "data": {
      "text/plain": [
       "(False, True, True, False, False)"
      ]
     },
     "execution_count": null,
     "metadata": {},
     "output_type": "execute_result"
    }
   ],
   "source": [
    "(\n",
    "    step_1.is_sub(step_1_0),\n",
    "    step_1_0.is_sub(step_1),\n",
    "    step_1_0.is_sub(step_1_0), \n",
    "    step_1_0.is_sub(step_2), \n",
    "    step_1_0.is_sub(step_3_0), \n",
    ")"
   ]
  },
  {
   "attachments": {},
   "cell_type": "markdown",
   "metadata": {},
   "source": [
    "## kuut"
   ]
  },
  {
   "cell_type": "code",
   "execution_count": null,
   "metadata": {},
   "outputs": [],
   "source": [
    "#| export\n",
    "class kuut(tqdm):\n",
    "    \"\"\"\n",
    "    A progress bar class that extends tqdm and operates with kstep instances.\n",
    "\n",
    "    Parameters\n",
    "    ----------\n",
    "    steps : List[kstep]\n",
    "        The list of steps for the progress bar.\n",
    "        \n",
    "    *args : \n",
    "        Variable length argument list.\n",
    "\n",
    "    **kwargs : \n",
    "        Arbitrary keyword arguments.\n",
    "\n",
    "    Attributes\n",
    "    ----------\n",
    "    steps : List[kstep]\n",
    "        The list of steps for the progress bar.\n",
    "\n",
    "    Methods\n",
    "    -------\n",
    "    __enter__():\n",
    "        Enter the context for the progress bar.\n",
    "\n",
    "    __exit__(exc_type, exc_val, exc_tb):\n",
    "        Exit the context for the progress bar.\n",
    "\n",
    "    __iter__():\n",
    "        Return an iterator for the progress bar.\n",
    "\n",
    "    step(num: int, sub: Optional[int]=None):  \n",
    "        Advance the progress bar by a step.\n",
    "\n",
    "    does_num_match(step:Union[tuple, kstep], num:int) -> bool:\n",
    "        Check if a step number matches a given number.\n",
    "\n",
    "    does_sub_match(step:Union[tuple, kstep], sub:int) -> bool:\n",
    "        Check if a step sub number matches a given sub number.\n",
    "\n",
    "    does_step_match(step:Union[tuple, kstep], num:int, sub:int) -> bool:\n",
    "        Check if a step matches a given main and sub number.\n",
    "\n",
    "    get_step(num:int, sub:Optional[int]=None) -> Optional[kstep]:\n",
    "        Get a step from the progress bar.\n",
    "\n",
    "    does_step_exist(num: int, sub: Optional[int]=None) -> bool:\n",
    "        Check if a step exists in the progress bar.\n",
    "\n",
    "    is_step(num:int, sub:Optional[int]=None) -> bool:\n",
    "        Alias for does_step_exist.\n",
    "\n",
    "    get_step_subs(num:int) -> List[int]:\n",
    "        Get the sub steps for a main step.\n",
    "        \n",
    "    pbar_total() -> int:\n",
    "        Get the total progress bar value.\n",
    "\n",
    "    step_nums() -> List[int]:\n",
    "        Get the main step numbers.\n",
    "\n",
    "    num_main_steps():\n",
    "        Get the number of main steps.\n",
    "\n",
    "    step_subs():\n",
    "        Get all sub steps for all main steps.\n",
    "\n",
    "    num_all_steps():\n",
    "        Get the total number of steps (main and sub).\n",
    "\n",
    "    calc_pbar_val(num:int, sub:Optional[int]=None) -> int:\n",
    "        Calculate the progress bar value.\n",
    "    \"\"\"\n",
    "    def __new__(cls, *args, **kwargs):\n",
    "        try:\n",
    "            cls._instances = tqdm._instances\n",
    "        except AttributeError:\n",
    "            pass\n",
    "\n",
    "        instance = super().__new__(cls, *args, **kwargs)\n",
    "\n",
    "        tqdm._instances = cls._instances\n",
    "        return instance\n",
    "     \n",
    "    def __init__(self, steps: List[kstep], *args, **kwargs):\n",
    "        self.steps = steps        \n",
    "        kwargs['total'] = self.pbar_total        \n",
    "        super().__init__(*args, **kwargs)\n",
    "\n",
    "    def __enter__(self):\n",
    "        return self\n",
    "\n",
    "    def __exit__(self, exc_type, exc_val, exc_tb):\n",
    "        self.close()\n",
    "\n",
    "    def __iter__(self):\n",
    "        last_num = self.steps[0].num\n",
    "        last_desc = self.steps[0].desc\n",
    "\n",
    "        for step in self.steps:\n",
    "            if last_num < step.num:\n",
    "                last_num = step.num\n",
    "                last_desc = step.desc\n",
    "\n",
    "            desc = step.desc\n",
    "            if desc is None:\n",
    "                desc = last_desc if last_num == step.num else f\"({step.num}, {step.sub})\"\n",
    "\n",
    "            # self.step(step.num, step.sub)            \n",
    "            yield kstep(step.num, step.sub, step.val, desc)\n",
    "\n",
    "    def step(self, num: int, sub: Optional[int] = None):  \n",
    "        # self.display()      \n",
    "        self.n = self.calc_pbar_val(num, sub)\n",
    "        self.refresh()\n",
    "        # self.container\n",
    "        return \n",
    "    \n",
    "    def does_num_match(self, step: Union[tuple, kstep], num: int) -> bool:\n",
    "        return kstep(*step).num == num\n",
    "    \n",
    "    def does_sub_match(self, step: Union[tuple, kstep], sub: int) -> bool:\n",
    "        return kstep(*step).sub == sub\n",
    "    \n",
    "    def does_step_match(self, step: Union[tuple, kstep], num: int, sub: int) -> bool:\n",
    "        return kstep(*step) == (num, sub)\n",
    "\n",
    "    def get_step(self, num: int, sub: Optional[int] = None) -> Optional[kstep]:\n",
    "        return next((step for step in self.steps if kstep(*step) == (num, sub)), None)\n",
    "\n",
    "    def does_step_exist(self, num: int, sub: Optional[int] = None) -> bool:\n",
    "        return self.get_step(num, sub) is not None\n",
    "    \n",
    "    # NOTE: alias for does_step_exist\n",
    "    def is_step(self, num: int, sub: Optional[int] = None) -> bool:\n",
    "        return self.does_step_exist(num, sub)\n",
    "\n",
    "    def get_step_subs(self, num: int) -> List[int]:\n",
    "        return sorted(list(set(filter(lambda s: s.is_sub(num), self.steps))))\n",
    "\n",
    "    @property\n",
    "    def pbar_total(self) -> int:\n",
    "        return sum([step.val for step in self.steps])\n",
    "\n",
    "    @property\n",
    "    def step_nums(self) -> List[int]:\n",
    "        return sorted(list(set([step.num for step in self.steps])))\n",
    "\n",
    "    @property\n",
    "    def num_main_steps(self):\n",
    "        # total number of steps\n",
    "        return len(self.step_nums)\n",
    "\n",
    "    @property\n",
    "    def step_subs(self):\n",
    "        return {num: self.get_step_subs(num) for num in self.step_nums}\n",
    "    \n",
    "    @property\n",
    "    def num_all_steps(self):\n",
    "        total = 0\n",
    "        for _, subs in self.step_subs.items():\n",
    "            total += 1 + len(subs)\n",
    "        return total\n",
    "\n",
    "    \n",
    "    def _check_sub(self, num: int, sub: Optional[int] = None) -> Optional[int]:\n",
    "        # NOTE: no substep, so use main step instead\n",
    "        exists_q = self.is_step(num, sub)\n",
    "        if not exists_q and sub is not None:\n",
    "            sub = None\n",
    "        return sub\n",
    "\n",
    "    def _check_num(self, num: int) -> Optional[int]:\n",
    "        if num in self.step_nums:\n",
    "            return num            \n",
    "        # NOTE: not a main step, so figure out if user means 100%\n",
    "        is_above_any = num > self.num_all_steps\n",
    "        is_above_main = num > self.num_main_steps\n",
    "        is_above_step = num > max(self.step_nums)\n",
    "\n",
    "        if is_above_any or is_above_main or is_above_step:        \n",
    "            return float('inf')\n",
    "        return None\n",
    "\n",
    "    def calc_pbar_val(self, num: int, sub: Optional[int] = None) -> int:        \n",
    "        total = 0\n",
    "\n",
    "        num = self._check_num(num)\n",
    "        sub = self._check_sub(num, sub)\n",
    "\n",
    "        if num is None:\n",
    "            return total\n",
    "\n",
    "        if num is float('inf'):\n",
    "            return self.pbar_total\n",
    "        \n",
    "        for step in self.steps:  \n",
    "            if step.num < num:\n",
    "                total += step.val\n",
    "                continue\n",
    "\n",
    "            elif step.num > num:\n",
    "                break\n",
    "\n",
    "            # NOTE: step.num == num\n",
    "            # kstep(*step).is_sub((num, sub))\n",
    "            if sub is None:\n",
    "                total += step.val\n",
    "                continue\n",
    "\n",
    "            elif step.sub > sub:                \n",
    "                break\n",
    "\n",
    "            else:\n",
    "                total += step.val\n",
    "\n",
    "        return total"
   ]
  },
  {
   "attachments": {},
   "cell_type": "markdown",
   "metadata": {},
   "source": [
    "### Basic Examples"
   ]
  },
  {
   "cell_type": "code",
   "execution_count": null,
   "metadata": {},
   "outputs": [
    {
     "data": {
      "text/plain": [
       "(65, [0, 1, 2, 3, 4, 5, 6, 7, 8, 9], 10)"
      ]
     },
     "execution_count": null,
     "metadata": {},
     "output_type": "execute_result"
    }
   ],
   "source": [
    "#| eval: false\n",
    "# create a list of steps\n",
    "steps = [kstep(num=i, sub=i+1, val=i+2, desc=f\"Step {i}\") for i in range(10)]\n",
    "\n",
    "# create a kuut instance\n",
    "pbar = kuut(steps=steps, display=False)\n",
    "\n",
    "# use the properties\n",
    "(\n",
    "    pbar.pbar_total, # outputs: 65\n",
    "    pbar.step_nums,  # outputs: [0, 1, 2, 3, 4, 5, 6, 7, 8, 9]\n",
    "    pbar.num_main_steps  # outputs: 10\n",
    ")"
   ]
  },
  {
   "cell_type": "code",
   "execution_count": null,
   "metadata": {},
   "outputs": [
    {
     "data": {
      "text/plain": [
       "(True, False, kstep(num=5, sub=6, val=7, desc='Step 5'))"
      ]
     },
     "execution_count": null,
     "metadata": {},
     "output_type": "execute_result"
    }
   ],
   "source": [
    "#| eval: false\n",
    "(\n",
    "    pbar.does_step_exist(5, 6), # outputs: True\n",
    "    pbar.does_step_exist(5), # outputs: False\n",
    "    pbar.get_step(5, 6) # outputs: kstep(num=5, sub=6, val=7, desc='Step 5')\n",
    ") "
   ]
  },
  {
   "cell_type": "code",
   "execution_count": null,
   "metadata": {},
   "outputs": [
    {
     "data": {
      "application/vnd.jupyter.widget-view+json": {
       "model_id": "bdc63bdf9d6440bfa70421467e14c137",
       "version_major": 2,
       "version_minor": 0
      },
      "text/plain": [
       "  0%|          | 0/65 [00:03<?, ?it/s]"
      ]
     },
     "execution_count": null,
     "metadata": {},
     "output_type": "execute_result"
    }
   ],
   "source": [
    "#| eval: false\n",
    "pbar.container"
   ]
  },
  {
   "cell_type": "code",
   "execution_count": null,
   "metadata": {},
   "outputs": [],
   "source": [
    "#| eval: false\n",
    "pbar.step(5, 6) # outputs: Step 5.6"
   ]
  },
  {
   "cell_type": "code",
   "execution_count": null,
   "metadata": {},
   "outputs": [
    {
     "data": {
      "application/vnd.jupyter.widget-view+json": {
       "model_id": "7c0201fdc51d44639d1165507925c8b8",
       "version_major": 2,
       "version_minor": 0
      },
      "text/plain": [
       "  0%|          | 0/65 [00:00<?, ?it/s]"
      ]
     },
     "metadata": {},
     "output_type": "display_data"
    }
   ],
   "source": [
    "#| eval: false\n",
    "import time\n",
    "pbar = kuut(steps=steps)\n",
    "for _ in pbar:\n",
    "    # Simulate some work\n",
    "    time.sleep(0.1)\n",
    "    pbar.step(_.num, _.sub)    "
   ]
  },
  {
   "attachments": {},
   "cell_type": "markdown",
   "metadata": {},
   "source": [
    "### Complex Example"
   ]
  },
  {
   "cell_type": "code",
   "execution_count": null,
   "metadata": {},
   "outputs": [],
   "source": [
    "steps = [\n",
    "        kstep(1, val=20, desc='download'),\n",
    "        kstep(2, sub=0, val=5, desc='load_timepoints'),\n",
    "        kstep(2, sub=1, val=5, desc='load_timepoints'),\n",
    "        kstep(2, sub=2, val=5, desc='load_timepoints'),\n",
    "        kstep(2, sub=3, val=5, desc='load_timepoints'),\n",
    "        kstep(2, sub=4, val=5, desc='load_timepoints'),\n",
    "        # kstep(2, val=25, desc='load_timepoints'),\n",
    "        kstep(3, sub=0, val=5, desc='library_fitlering'),\n",
    "        kstep(3, sub=1, val=5, desc='library_fitlering'),\n",
    "        kstep(3, sub=2, val=5, desc='library_fitlering'),\n",
    "        kstep(3, sub=3, val=5, desc='library_fitlering'),\n",
    "        kstep(3, sub=4, val=5, desc='library_fitlering'),\n",
    "        # kstep(3, val=25, desc='library_fitlering'),\n",
    "        kstep(4, val=5, desc='merge_data'),\n",
    "        kstep(5, sub=0, val=5, desc='filter_data'),\n",
    "        kstep(5, sub=1, val=5, desc='filter_data'),\n",
    "        kstep(5, sub=2, val=5, desc='filter_data'),\n",
    "        kstep(5, sub=3, val=5, desc='filter_data'),\n",
    "        kstep(5, sub=4, val=5, desc='filter_data'),\n",
    "        kstep(5, sub=5, val=5, desc='filter_data'),\n",
    "        # kstep(5, val=30, desc='filter_data'),\n",
    "        kstep(6, val=20, desc='embed'),\n",
    "        kstep(7, desc='save'),\n",
    "    ]"
   ]
  },
  {
   "cell_type": "code",
   "execution_count": null,
   "metadata": {},
   "outputs": [
    {
     "data": {
      "application/vnd.jupyter.widget-view+json": {
       "model_id": "bd0040bdb445459b8fb6426d8f7dcd1b",
       "version_major": 2,
       "version_minor": 0
      },
      "text/plain": [
       "test:   0%|          | 0/126 [00:00<?, ?it/s]"
      ]
     },
     "execution_count": null,
     "metadata": {},
     "output_type": "execute_result"
    }
   ],
   "source": [
    "#| eval: false\n",
    "k = kuut(steps, desc='test', display=False)\n",
    "k.container"
   ]
  },
  {
   "cell_type": "code",
   "execution_count": null,
   "metadata": {},
   "outputs": [],
   "source": [
    "#| eval: false\n",
    "k.step(2)"
   ]
  },
  {
   "cell_type": "code",
   "execution_count": null,
   "metadata": {},
   "outputs": [],
   "source": [
    "#| hide\n",
    "import nbdev; nbdev.nbdev_export()"
   ]
  }
 ],
 "metadata": {
  "kernelspec": {
   "display_name": "python3",
   "language": "python",
   "name": "python3"
  }
 },
 "nbformat": 4,
 "nbformat_minor": 4
}
